{
 "cells": [
  {
   "cell_type": "markdown",
   "metadata": {},
   "source": [
    "Lambda School Data Science\n",
    "\n",
    "*Unit 3, Med Cabinet Build*\n",
    "\n",
    "---"
   ]
  },
  {
   "cell_type": "code",
   "execution_count": 119,
   "metadata": {},
   "outputs": [
    {
     "data": {
      "text/html": [
       "<div>\n",
       "<style scoped>\n",
       "    .dataframe tbody tr th:only-of-type {\n",
       "        vertical-align: middle;\n",
       "    }\n",
       "\n",
       "    .dataframe tbody tr th {\n",
       "        vertical-align: top;\n",
       "    }\n",
       "\n",
       "    .dataframe thead th {\n",
       "        text-align: right;\n",
       "    }\n",
       "</style>\n",
       "<table border=\"1\" class=\"dataframe\">\n",
       "  <thead>\n",
       "    <tr style=\"text-align: right;\">\n",
       "      <th></th>\n",
       "      <th>Strain</th>\n",
       "      <th>Type</th>\n",
       "      <th>Rating</th>\n",
       "      <th>Effects</th>\n",
       "      <th>Flavor</th>\n",
       "      <th>Description</th>\n",
       "    </tr>\n",
       "  </thead>\n",
       "  <tbody>\n",
       "    <tr>\n",
       "      <th>0</th>\n",
       "      <td>100-Og</td>\n",
       "      <td>hybrid</td>\n",
       "      <td>4.0</td>\n",
       "      <td>Creative,Energetic,Tingly,Euphoric,Relaxed</td>\n",
       "      <td>Earthy,Sweet,Citrus</td>\n",
       "      <td>$100 OG is a 50/50 hybrid strain that packs a ...</td>\n",
       "    </tr>\n",
       "    <tr>\n",
       "      <th>1</th>\n",
       "      <td>98-White-Widow</td>\n",
       "      <td>hybrid</td>\n",
       "      <td>4.7</td>\n",
       "      <td>Relaxed,Aroused,Creative,Happy,Energetic</td>\n",
       "      <td>Floral,Violet,Diesel</td>\n",
       "      <td>The ‘98 Aloha White Widow is an especially pot...</td>\n",
       "    </tr>\n",
       "    <tr>\n",
       "      <th>2</th>\n",
       "      <td>1024</td>\n",
       "      <td>sativa</td>\n",
       "      <td>4.4</td>\n",
       "      <td>Uplifted,Happy,Relaxed,Energetic,Creative</td>\n",
       "      <td>Spicy,Herbal,Sage,Wood</td>\n",
       "      <td>1024 is a sativa-dominant hybrid bred in Spain...</td>\n",
       "    </tr>\n",
       "    <tr>\n",
       "      <th>3</th>\n",
       "      <td>13-Dawgs</td>\n",
       "      <td>hybrid</td>\n",
       "      <td>4.2</td>\n",
       "      <td>Tingly,Creative,Hungry,Relaxed,Uplifted</td>\n",
       "      <td>Apricot,Citrus,Grapefruit</td>\n",
       "      <td>13 Dawgs is a hybrid of G13 and Chemdawg genet...</td>\n",
       "    </tr>\n",
       "    <tr>\n",
       "      <th>4</th>\n",
       "      <td>24K-Gold</td>\n",
       "      <td>hybrid</td>\n",
       "      <td>4.6</td>\n",
       "      <td>Happy,Relaxed,Euphoric,Uplifted,Talkative</td>\n",
       "      <td>Citrus,Earthy,Orange</td>\n",
       "      <td>Also known as Kosher Tangie, 24k Gold is a 60%...</td>\n",
       "    </tr>\n",
       "  </tbody>\n",
       "</table>\n",
       "</div>"
      ],
      "text/plain": [
       "           Strain    Type  Rating                                     Effects  \\\n",
       "0          100-Og  hybrid     4.0  Creative,Energetic,Tingly,Euphoric,Relaxed   \n",
       "1  98-White-Widow  hybrid     4.7    Relaxed,Aroused,Creative,Happy,Energetic   \n",
       "2            1024  sativa     4.4   Uplifted,Happy,Relaxed,Energetic,Creative   \n",
       "3        13-Dawgs  hybrid     4.2     Tingly,Creative,Hungry,Relaxed,Uplifted   \n",
       "4        24K-Gold  hybrid     4.6   Happy,Relaxed,Euphoric,Uplifted,Talkative   \n",
       "\n",
       "                      Flavor  \\\n",
       "0        Earthy,Sweet,Citrus   \n",
       "1       Floral,Violet,Diesel   \n",
       "2     Spicy,Herbal,Sage,Wood   \n",
       "3  Apricot,Citrus,Grapefruit   \n",
       "4       Citrus,Earthy,Orange   \n",
       "\n",
       "                                         Description  \n",
       "0  $100 OG is a 50/50 hybrid strain that packs a ...  \n",
       "1  The ‘98 Aloha White Widow is an especially pot...  \n",
       "2  1024 is a sativa-dominant hybrid bred in Spain...  \n",
       "3  13 Dawgs is a hybrid of G13 and Chemdawg genet...  \n",
       "4  Also known as Kosher Tangie, 24k Gold is a 60%...  "
      ]
     },
     "execution_count": 119,
     "metadata": {},
     "output_type": "execute_result"
    }
   ],
   "source": [
    "import pandas as pd\n",
    "\n",
    "\n",
    "pd.set_option('display.max_rows', 500)\n",
    "df = pd.read_csv('cannabis.csv')\n",
    "df = df.dropna()\n",
    "\n",
    "df.head()"
   ]
  },
  {
   "cell_type": "code",
   "execution_count": 120,
   "metadata": {},
   "outputs": [
    {
     "data": {
      "text/plain": [
       "Strain         0\n",
       "Type           0\n",
       "Rating         0\n",
       "Effects        0\n",
       "Flavor         0\n",
       "Description    0\n",
       "dtype: int64"
      ]
     },
     "execution_count": 120,
     "metadata": {},
     "output_type": "execute_result"
    }
   ],
   "source": [
    "# df.loc[df['SEARCH_HERE'].isnull() == True]\n",
    "\n",
    "df.isnull().sum()"
   ]
  },
  {
   "cell_type": "markdown",
   "metadata": {},
   "source": [
    "## Step 1 - Effects/Flavor Search Preparation\n",
    "\n",
    "We need to break out the effects for each strain into something searchable. To do this we're going to grab the number of unique entries, this way we can know how any new columns we'll have for encoding."
   ]
  },
  {
   "cell_type": "code",
   "execution_count": 121,
   "metadata": {},
   "outputs": [
    {
     "name": "stdout",
     "output_type": "stream",
     "text": [
      "Creative,Energetic,Tingly,Euphoric,Relaxed\n",
      "<class 'str'>\n"
     ]
    }
   ],
   "source": [
    "# This is what one row looks like on efects\n",
    "\n",
    "print(df['Effects'][0])\n",
    "\n",
    "# Python considers this a string\n",
    "\n",
    "print(type(df['Effects'][0]))"
   ]
  },
  {
   "cell_type": "code",
   "execution_count": 122,
   "metadata": {},
   "outputs": [
    {
     "data": {
      "text/plain": [
       "0       [Creative, Energetic, Tingly, Euphoric, Relaxed]\n",
       "1         [Relaxed, Aroused, Creative, Happy, Energetic]\n",
       "2        [Uplifted, Happy, Relaxed, Energetic, Creative]\n",
       "3          [Tingly, Creative, Hungry, Relaxed, Uplifted]\n",
       "4        [Happy, Relaxed, Euphoric, Uplifted, Talkative]\n",
       "                              ...                       \n",
       "2346     [Happy, Uplifted, Relaxed, Euphoric, Energetic]\n",
       "2347        [Relaxed, Happy, Euphoric, Uplifted, Sleepy]\n",
       "2348       [Relaxed, Sleepy, Talkative, Euphoric, Happy]\n",
       "2349          [Relaxed, Sleepy, Euphoric, Happy, Hungry]\n",
       "2350          [Hungry, Relaxed, Uplifted, Happy, Sleepy]\n",
       "Name: Effects_List, Length: 2318, dtype: object"
      ]
     },
     "execution_count": 122,
     "metadata": {},
     "output_type": "execute_result"
    }
   ],
   "source": [
    "# Pandas has an option to turn strings in a series into lists through the split method.\n",
    "# Since methods run across the whole series we need to tell it to focus on the strings for each and split that,\n",
    "# otherwise it thinks we're trying to split the series, which makes no sense.\n",
    "\n",
    "df['Effects_List'] = df['Effects'].str.split(',')\n",
    "df['Flavor_List']  = df['Flavor'].str.split(',')\n",
    "\n",
    "df['Effects_List']"
   ]
  },
  {
   "cell_type": "code",
   "execution_count": 123,
   "metadata": {},
   "outputs": [
    {
     "name": "stdout",
     "output_type": "stream",
     "text": [
      "<class 'list'>\n",
      "['Creative', 'Energetic', 'Tingly', 'Euphoric', 'Relaxed']\n"
     ]
    }
   ],
   "source": [
    "# Now python sees the field as a list.\n",
    "\n",
    "print(type(df['Effects_List'][0]))\n",
    "print(df['Effects_List'][0])"
   ]
  },
  {
   "cell_type": "code",
   "execution_count": 124,
   "metadata": {},
   "outputs": [
    {
     "data": {
      "text/plain": [
       "0       5\n",
       "1       5\n",
       "2       5\n",
       "3       5\n",
       "4       5\n",
       "       ..\n",
       "2346    5\n",
       "2347    5\n",
       "2348    5\n",
       "2349    5\n",
       "2350    5\n",
       "Name: Effects_List, Length: 2318, dtype: int64"
      ]
     },
     "execution_count": 124,
     "metadata": {},
     "output_type": "execute_result"
    }
   ],
   "source": [
    "# From here we can see that while some are below 5, none surpass it.\n",
    "# We might need to do something about that, but for now we can ignore it.\n",
    "\n",
    "df['Effects_List'].str.len()"
   ]
  },
  {
   "cell_type": "code",
   "execution_count": 125,
   "metadata": {},
   "outputs": [
    {
     "name": "stdout",
     "output_type": "stream",
     "text": [
      "16 Happy        1842\n",
      "Relaxed      1705\n",
      "Euphoric     1614\n",
      "Uplifted     1485\n",
      "Creative      733\n",
      "Sleepy        729\n",
      "Energetic     632\n",
      "Focused       592\n",
      "Hungry        472\n",
      "Talkative     356\n",
      "Tingly        340\n",
      "Giggly        287\n",
      "Aroused       197\n",
      "None           85\n",
      "Uplifting       2\n",
      "Dry             1\n",
      "dtype: int64 54 Earthy        1099\n",
      "Sweet         1049\n",
      "Citrus         523\n",
      "Pungent        446\n",
      "Berry          354\n",
      "Pine           298\n",
      "Wood           285\n",
      "Floral         268\n",
      "Diesel         240\n",
      "Herbal         228\n",
      "Spicy          228\n",
      "Lemon          191\n",
      "Skunk          169\n",
      "Tropical       153\n",
      "Blueberry      153\n",
      "Grape          127\n",
      "None           121\n",
      "Orange          76\n",
      "Cheese          67\n",
      "Pepper          59\n",
      "Lime            52\n",
      "Strawberry      47\n",
      "Minty           41\n",
      "Pineapple       41\n",
      "Sage            39\n",
      "Grapefruit      38\n",
      "Chemical        38\n",
      "Lavender        37\n",
      "Fruity          34\n",
      "Vanilla         34\n",
      "Mango           33\n",
      "Honey           32\n",
      "Ammonia         28\n",
      "Nutty           25\n",
      "Coffee          24\n",
      "Menthol         22\n",
      "Butter          19\n",
      "Mint            18\n",
      "Tea             18\n",
      "Apple           16\n",
      "Rose            16\n",
      "Apricot          8\n",
      "Tobacco          8\n",
      "Violet           7\n",
      "Chestnut         7\n",
      "Tar              7\n",
      "Peach            6\n",
      "Sour             4\n",
      "Pear             3\n",
      "Plum             2\n",
      "Tangy            1\n",
      "Candy            1\n",
      "Melon            1\n",
      "Tart             1\n",
      "dtype: int64\n"
     ]
    }
   ],
   "source": [
    "# So we can see we have 15 unique values. Now we need to encode this.\n",
    "\n",
    "print(len(df['Effects_List'].apply(pd.Series).stack().value_counts())\n",
    "     ,df['Effects_List'].apply(pd.Series).stack().value_counts()\n",
    "     ,len(df['Flavor_List'].apply(pd.Series).stack().value_counts())\n",
    "     ,df['Flavor_List'].apply(pd.Series).stack().value_counts()\n",
    "     )"
   ]
  },
  {
   "cell_type": "code",
   "execution_count": 126,
   "metadata": {},
   "outputs": [
    {
     "data": {
      "text/plain": [
       "Earthy        1099\n",
       "Sweet         1049\n",
       "Citrus         523\n",
       "Pungent        446\n",
       "Berry          354\n",
       "Pine           298\n",
       "Wood           285\n",
       "Floral         268\n",
       "Diesel         240\n",
       "Herbal         228\n",
       "Spicy          228\n",
       "Lemon          191\n",
       "Skunk          169\n",
       "Tropical       153\n",
       "Blueberry      153\n",
       "Grape          127\n",
       "None           121\n",
       "Orange          76\n",
       "Cheese          67\n",
       "Pepper          59\n",
       "Lime            52\n",
       "Strawberry      47\n",
       "Minty           41\n",
       "Pineapple       41\n",
       "Sage            39\n",
       "Grapefruit      38\n",
       "Chemical        38\n",
       "Lavender        37\n",
       "Fruity          34\n",
       "Vanilla         34\n",
       "Mango           33\n",
       "Honey           32\n",
       "Ammonia         28\n",
       "Nutty           25\n",
       "Coffee          24\n",
       "Menthol         22\n",
       "Butter          19\n",
       "Mint            18\n",
       "Tea             18\n",
       "Apple           16\n",
       "Rose            16\n",
       "Apricot          8\n",
       "Tobacco          8\n",
       "Violet           7\n",
       "Chestnut         7\n",
       "Tar              7\n",
       "Peach            6\n",
       "Sour             4\n",
       "Pear             3\n",
       "Plum             2\n",
       "Tangy            1\n",
       "Candy            1\n",
       "Melon            1\n",
       "Tart             1\n",
       "dtype: int64"
      ]
     },
     "execution_count": 126,
     "metadata": {},
     "output_type": "execute_result"
    }
   ],
   "source": [
    "df['Flavor_List'].apply(pd.Series).stack().value_counts()"
   ]
  },
  {
   "cell_type": "markdown",
   "metadata": {},
   "source": [
    "## Step 2 - Encoding"
   ]
  },
  {
   "cell_type": "code",
   "execution_count": 127,
   "metadata": {},
   "outputs": [
    {
     "data": {
      "text/html": [
       "<div>\n",
       "<style scoped>\n",
       "    .dataframe tbody tr th:only-of-type {\n",
       "        vertical-align: middle;\n",
       "    }\n",
       "\n",
       "    .dataframe tbody tr th {\n",
       "        vertical-align: top;\n",
       "    }\n",
       "\n",
       "    .dataframe thead th {\n",
       "        text-align: right;\n",
       "    }\n",
       "</style>\n",
       "<table border=\"1\" class=\"dataframe\">\n",
       "  <thead>\n",
       "    <tr style=\"text-align: right;\">\n",
       "      <th></th>\n",
       "      <th>Strain</th>\n",
       "      <th>Type</th>\n",
       "      <th>Rating</th>\n",
       "      <th>Effects</th>\n",
       "      <th>Flavor</th>\n",
       "      <th>Description</th>\n",
       "      <th>Effects_List</th>\n",
       "      <th>Flavor_List</th>\n",
       "    </tr>\n",
       "  </thead>\n",
       "  <tbody>\n",
       "    <tr>\n",
       "      <th>355</th>\n",
       "      <td>Blukashima</td>\n",
       "      <td>hybrid</td>\n",
       "      <td>5.0</td>\n",
       "      <td>Creative</td>\n",
       "      <td>None</td>\n",
       "      <td>Using a Chernobyl male plant to pollenate thei...</td>\n",
       "      <td>[Creative]</td>\n",
       "      <td>[None]</td>\n",
       "    </tr>\n",
       "    <tr>\n",
       "      <th>369</th>\n",
       "      <td>Brain-Candy</td>\n",
       "      <td>hybrid</td>\n",
       "      <td>5.0</td>\n",
       "      <td>Creative</td>\n",
       "      <td>Sweet</td>\n",
       "      <td>Brain Candy by Insanity Strains is a handy hyb...</td>\n",
       "      <td>[Creative]</td>\n",
       "      <td>[Sweet]</td>\n",
       "    </tr>\n",
       "  </tbody>\n",
       "</table>\n",
       "</div>"
      ],
      "text/plain": [
       "          Strain    Type  Rating   Effects Flavor  \\\n",
       "355   Blukashima  hybrid     5.0  Creative   None   \n",
       "369  Brain-Candy  hybrid     5.0  Creative  Sweet   \n",
       "\n",
       "                                           Description Effects_List  \\\n",
       "355  Using a Chernobyl male plant to pollenate thei...   [Creative]   \n",
       "369  Brain Candy by Insanity Strains is a handy hyb...   [Creative]   \n",
       "\n",
       "    Flavor_List  \n",
       "355      [None]  \n",
       "369     [Sweet]  "
      ]
     },
     "execution_count": 127,
     "metadata": {},
     "output_type": "execute_result"
    }
   ],
   "source": [
    "# These two do the same thing, but they don't work with lists.\n",
    "# They also only work with EXACT MATCHES.\n",
    "\n",
    "df.loc[df['Effects'] == 'Creative']\n",
    "\n",
    "df.loc[df['Effects'].isin(['Creative'])]"
   ]
  },
  {
   "cell_type": "markdown",
   "metadata": {},
   "source": [
    "### MultiLabelBinarizer"
   ]
  },
  {
   "cell_type": "code",
   "execution_count": 128,
   "metadata": {},
   "outputs": [
    {
     "name": "stdout",
     "output_type": "stream",
     "text": [
      "      Aroused  Creative  Dry  Energetic  Euphoric  Focused  Giggly  Happy  \\\n",
      "0           0         1    0          1         1        0       0      0   \n",
      "1           1         1    0          1         0        0       0      1   \n",
      "2           0         1    0          1         0        0       0      1   \n",
      "3           0         1    0          0         0        0       0      0   \n",
      "4           0         0    0          0         1        0       0      1   \n",
      "...       ...       ...  ...        ...       ...      ...     ...    ...   \n",
      "2346        0         0    0          1         1        0       0      1   \n",
      "2347        0         0    0          0         1        0       0      1   \n",
      "2348        0         0    0          0         1        0       0      1   \n",
      "2349        0         0    0          0         1        0       0      1   \n",
      "2350        0         0    0          0         0        0       0      1   \n",
      "\n",
      "      Hungry  None  Relaxed  Sleepy  Talkative  Tingly  Uplifted  Uplifting  \n",
      "0          0     0        1       0          0       1         0          0  \n",
      "1          0     0        1       0          0       0         0          0  \n",
      "2          0     0        1       0          0       0         1          0  \n",
      "3          1     0        1       0          0       1         1          0  \n",
      "4          0     0        1       0          1       0         1          0  \n",
      "...      ...   ...      ...     ...        ...     ...       ...        ...  \n",
      "2346       0     0        1       0          0       0         1          0  \n",
      "2347       0     0        1       1          0       0         1          0  \n",
      "2348       0     0        1       1          1       0         0          0  \n",
      "2349       1     0        1       1          0       0         0          0  \n",
      "2350       1     0        1       1          0       0         1          0  \n",
      "\n",
      "[2318 rows x 16 columns]\n"
     ]
    }
   ],
   "source": [
    "from sklearn.preprocessing import MultiLabelBinarizer\n",
    "\n",
    "\n",
    "mlb = MultiLabelBinarizer()\n",
    "\n",
    "print(\n",
    "pd.DataFrame(mlb.fit_transform(df['Effects_List'])\n",
    "            ,columns = mlb.classes_\n",
    "            ,index   = df.index\n",
    "            )\n",
    "     )"
   ]
  },
  {
   "cell_type": "code",
   "execution_count": 129,
   "metadata": {},
   "outputs": [
    {
     "name": "stdout",
     "output_type": "stream",
     "text": [
      "   Aroused  Creative  Dry  Energetic  Euphoric  Focused  Giggly  Happy  \\\n",
      "0        0         1    0          1         1        0       0      0   \n",
      "1        1         1    0          1         0        0       0      1   \n",
      "2        0         1    0          1         0        0       0      1   \n",
      "3        0         1    0          0         0        0       0      0   \n",
      "4        0         0    0          0         1        0       0      1   \n",
      "\n",
      "   Hungry  None  Relaxed  Sleepy  Talkative  Tingly  Uplifted  Uplifting  \n",
      "0       0     0        1       0          0       1         0          0  \n",
      "1       0     0        1       0          0       0         0          0  \n",
      "2       0     0        1       0          0       0         1          0  \n",
      "3       1     0        1       0          0       1         1          0  \n",
      "4       0     0        1       0          1       0         1          0      Ammonia  Apple  Apricot  Berry  Blueberry  Butter  Candy  Cheese  Chemical  \\\n",
      "0        0      0        0      0          0       0      0       0         0   \n",
      "1        0      0        0      0          0       0      0       0         0   \n",
      "2        0      0        0      0          0       0      0       0         0   \n",
      "3        0      0        1      0          0       0      0       0         0   \n",
      "4        0      0        0      0          0       0      0       0         0   \n",
      "\n",
      "   Chestnut  ...  Sweet  Tangy  Tar  Tart  Tea  Tobacco  Tropical  Vanilla  \\\n",
      "0         0  ...      1      0    0     0    0        0         0        0   \n",
      "1         0  ...      0      0    0     0    0        0         0        0   \n",
      "2         0  ...      0      0    0     0    0        0         0        0   \n",
      "3         0  ...      0      0    0     0    0        0         0        0   \n",
      "4         0  ...      0      0    0     0    0        0         0        0   \n",
      "\n",
      "   Violet  Wood  \n",
      "0       0     0  \n",
      "1       1     0  \n",
      "2       0     1  \n",
      "3       0     0  \n",
      "4       0     0  \n",
      "\n",
      "[5 rows x 54 columns]\n"
     ]
    }
   ],
   "source": [
    "df2 = pd.DataFrame(mlb.fit_transform(df['Effects_List'])\n",
    "                  ,columns = mlb.classes_\n",
    "                  ,index   = df.index\n",
    "                  )\n",
    "\n",
    "df3 = pd.DataFrame(mlb.fit_transform(df['Flavor_List'])\n",
    "                  ,columns = mlb.classes_\n",
    "                  ,index   = df.index\n",
    "                  )\n",
    "print(df2.head()\n",
    "     ,df3.head()\n",
    "     )"
   ]
  },
  {
   "cell_type": "markdown",
   "metadata": {},
   "source": [
    "## Step 3 - Merge"
   ]
  },
  {
   "cell_type": "code",
   "execution_count": 130,
   "metadata": {},
   "outputs": [],
   "source": [
    "df2 = df2.merge(df3, left_index = True, right_index = True)\n",
    "df  = df.merge(df2, left_index = True, right_index = True)\n",
    "\n",
    "df  = df.drop(['Effects_List', 'Flavor_List', 'None_x', 'None_y'], axis = 1)"
   ]
  },
  {
   "cell_type": "code",
   "execution_count": 131,
   "metadata": {},
   "outputs": [
    {
     "data": {
      "text/plain": [
       "Index(['Strain', 'Type', 'Rating', 'Effects', 'Flavor', 'Description',\n",
       "       'Aroused', 'Creative', 'Dry', 'Energetic', 'Euphoric', 'Focused',\n",
       "       'Giggly', 'Happy', 'Hungry', 'Relaxed', 'Sleepy', 'Talkative', 'Tingly',\n",
       "       'Uplifted', 'Uplifting', 'Ammonia', 'Apple', 'Apricot', 'Berry',\n",
       "       'Blueberry', 'Butter', 'Candy', 'Cheese', 'Chemical', 'Chestnut',\n",
       "       'Citrus', 'Coffee', 'Diesel', 'Earthy', 'Floral', 'Fruity', 'Grape',\n",
       "       'Grapefruit', 'Herbal', 'Honey', 'Lavender', 'Lemon', 'Lime', 'Mango',\n",
       "       'Melon', 'Menthol', 'Mint', 'Minty', 'Nutty', 'Orange', 'Peach', 'Pear',\n",
       "       'Pepper', 'Pine', 'Pineapple', 'Plum', 'Pungent', 'Rose', 'Sage',\n",
       "       'Skunk', 'Sour', 'Spicy', 'Strawberry', 'Sweet', 'Tangy', 'Tar', 'Tart',\n",
       "       'Tea', 'Tobacco', 'Tropical', 'Vanilla', 'Violet', 'Wood'],\n",
       "      dtype='object')"
      ]
     },
     "execution_count": 131,
     "metadata": {},
     "output_type": "execute_result"
    }
   ],
   "source": [
    "df.columns"
   ]
  },
  {
   "cell_type": "code",
   "execution_count": null,
   "metadata": {},
   "outputs": [],
   "source": []
  }
 ],
 "metadata": {
  "kernelspec": {
   "display_name": "Python 3",
   "language": "python",
   "name": "python3"
  },
  "language_info": {
   "codemirror_mode": {
    "name": "ipython",
    "version": 3
   },
   "file_extension": ".py",
   "mimetype": "text/x-python",
   "name": "python",
   "nbconvert_exporter": "python",
   "pygments_lexer": "ipython3",
   "version": "3.7.5"
  }
 },
 "nbformat": 4,
 "nbformat_minor": 4
}

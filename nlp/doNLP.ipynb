{
 "cells": [
  {
   "cell_type": "code",
   "execution_count": 1,
   "metadata": {
    "collapsed": true,
    "pycharm": {
     "is_executing": false
    }
   },
   "outputs": [
    {
     "name": "stdout",
     "text": [
      "done\n"
     ],
     "output_type": "stream"
    }
   ],
   "source": [
    "import spacy\n",
    "import pandas as pd\n",
    "from spacy.tokenizer import Tokenizer\n",
    "from sklearn.feature_extraction.text import CountVectorizer, TfidfVectorizer\n",
    "from sklearn.neighbors import NearestNeighbors\n",
    "print('done')\n",
    "\n",
    "def doDataScience(review):\n",
    "    url = \"https://raw.githubusercontent.com/MedicinalCabinet/DataScience/master/Data/cannabis.csv\"\n",
    "    df = pd.read_csv(url)\n",
    "    df1 = df.dropna()\n",
    "    label = df1[df1[\"Description\"]==\"None\"].index\n",
    "    \n",
    "    #Drop all rows that have none values in all rows\n",
    "    df1 = df1.drop(index=label)\n",
    "    #import spacy.cli\n",
    "    nlp = spacy.load(\"en_core_web_lg\")\n",
    "    # create tokenizer object\n",
    "    tokenizer = Tokenizer(nlp.vocab)\n",
    "    \n",
    "    def tokenize(doc):\n",
    "        \"\"\"Return the tokens\"\"\"\n",
    "        return [token.text for token in tokenizer(doc)]\n",
    "\n",
    "    def get_lemmas(text):\n",
    "        \"\"\"Return the Lemmas\"\"\"\n",
    "        lemmas = []\n",
    "        doc = nlp(text)\n",
    "    \n",
    "        for token in doc: \n",
    "            if ((token.is_stop == False) and (token.is_punct == False)) and (token.pos_!= 'PRON'):\n",
    "                lemmas.append(token.lemma_)\n",
    "        return lemmas\n",
    "\n",
    "    #combined the column Fffects, alltext, flavor\n",
    "    df1['alltext'] = df1['Effects'].str.cat(df1[\"Flavor\"], sep=\" \")\n",
    "    df1['alltext'] = df1['alltext'].str.cat(df1[\"Description\"], sep=\" \")\n",
    "\n",
    "    text = df1[\"alltext\"]\n",
    "\n",
    "    # Instantiate vectorizer object\n",
    "    tfidf = TfidfVectorizer(tokenizer=get_lemmas, min_df=0.025, max_df=.98, ngram_range=(1,2))\n",
    "\n",
    "    # Create a vocabulary and get word counts per document\n",
    "    dtm = tfidf.fit_transform(text) # Similiar to fit_predict\n",
    "\n",
    "    # Get feature names to use as dataframe column headers\n",
    "    dtm = pd.DataFrame(dtm.todense(), columns=tfidf.get_feature_names())\n",
    "\n",
    "    # Fit on TF-IDF Vectors\n",
    "    nn  = NearestNeighbors(n_neighbors=10, algorithm='kd_tree')\n",
    "    nn.fit(dtm)\n",
    "   \n",
    "\n",
    "    new = tfidf.transform(review)\n",
    "    nn.kneighbors(new.todense())\n",
    "    array =nn.kneighbors(new.todense())\n",
    "    whatIndex = array[1][0][0].astype(int)\n",
    "    \n",
    "    return df1['Description'][whatIndex]"
   ]
  },
  {
   "cell_type": "code",
   "execution_count": 2,
   "outputs": [
    {
     "name": "stdout",
     "text": [
      "Red Poison, bred by Sweet Seeds, is an auto-flowering hybrid of Green Poison and a Pakistani landrace strain, believed to be a Hindu Kush phenotype that was selected for its deep purple colors. The influence of cannabis ruderalis in Red Poison’s genetics induces the flowering cycle automatically and helps this strain complete its lifecycle, from seed to harvest, in about 8 weeks. The buds of Red Poison are almost too pretty to consume with their amazing range of dark red and violet hues. The aroma is a sweet mixture of fruit flavors and skunky musk that bring with it balanced hybrid effects that relax the body and blanket your head in a cloud of euphoria.\ndone\n"
     ],
     "output_type": "stream"
    }
   ],
   "source": [
    "input = \"['sweet', 'tangy', 'strong']\"\n",
    "input = [input]\n",
    "print(doDataScience(input))\n",
    "print('done')"
   ],
   "metadata": {
    "collapsed": false,
    "pycharm": {
     "name": "#%%\n",
     "is_executing": false
    }
   }
  },
  {
   "cell_type": "code",
   "execution_count": null,
   "outputs": [],
   "source": [],
   "metadata": {
    "collapsed": false,
    "pycharm": {
     "name": "#%%\n"
    }
   }
  }
 ],
 "metadata": {
  "kernelspec": {
   "display_name": "Python 3",
   "language": "python",
   "name": "python3"
  },
  "language_info": {
   "codemirror_mode": {
    "name": "ipython",
    "version": 2
   },
   "file_extension": ".py",
   "mimetype": "text/x-python",
   "name": "python",
   "nbconvert_exporter": "python",
   "pygments_lexer": "ipython2",
   "version": "2.7.6"
  },
  "pycharm": {
   "stem_cell": {
    "cell_type": "raw",
    "source": [],
    "metadata": {
     "collapsed": false
    }
   }
  }
 },
 "nbformat": 4,
 "nbformat_minor": 0
}